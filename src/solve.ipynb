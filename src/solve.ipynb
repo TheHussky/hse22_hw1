{
 "cells": [
  {
   "cell_type": "code",
   "execution_count": 1,
   "id": "8f07f039",
   "metadata": {},
   "outputs": [],
   "source": [
    "def retrieve_info(file):\n",
    "    with open(file, 'r') as f:\n",
    "        lines = f.readlines()\n",
    "        \n",
    "    n50=0\n",
    "    total_objects=0\n",
    "    total_length=0\n",
    "    max_length=0\n",
    "    len_arr=[]\n",
    "    cur=''\n",
    "    \n",
    "    lines.append(\">\") #Ensure the last sequence has a logical end\n",
    "    \n",
    "    for line in lines:\n",
    "        if '>' in line:\n",
    "            cur_len=len(cur)\n",
    "            total_length+=cur_len\n",
    "            len_arr.append(cur_len)\n",
    "            if cur_len > max_length:\n",
    "                max_length = cur_len\n",
    "                max_object=cur\n",
    "            cur=''\n",
    "            total_objects+=1\n",
    "        else:\n",
    "            cur+=line\n",
    "    \n",
    "    len_arr = sorted(len_arr)\n",
    "    \n",
    "    tmp_sum=0\n",
    "    for leng in len_arr:\n",
    "        n50=leng\n",
    "        tmp_sum += leng\n",
    "        if tmp_sum > total_length / 2:\n",
    "            break\n",
    "    \n",
    "    return total_objects, total_length, max_length, max_object, n50, len_arr.count(max_length)\n",
    "\n",
    "def gaps(scaf):\n",
    "    total_gaps=0\n",
    "    total_length=0\n",
    "    prev=\"\"\n",
    "    \n",
    "    for letter in scaf:\n",
    "        if letter == \"N\":\n",
    "            if prev != \"N\":\n",
    "                total_gaps+=1\n",
    "            total_length+=1\n",
    "        prev=letter\n",
    "    print(f\"Total length of gaps: {total_length}\")\n",
    "    print(f\"Total gaps: {total_gaps}\")\n",
    "\n",
    "def present_results(filename, object_name=\"object\"):\n",
    "    total_objects, total_length, max_length, max_object, n50, max_c = retrieve_info(filename)\n",
    "    print(f\"{object_name} analysis \\n----------------------------------------------------------------\")\n",
    "    print(f\"Total {object_name}s: {total_objects}\")\n",
    "    print(f\"Total length: {total_length}\")\n",
    "    print(f\"Max length: {max_length}\")\n",
    "    print(f\"n50: {n50}\")\n",
    "    if object_name == \"scaffold\" or object_name == \"closed_scaffold\":\n",
    "        gaps(max_object)\n",
    "        with open(f\"../data/longest_{object_name}.fa\", \"w\") as out:\n",
    "            out.write(max_object)\n",
    "            "
   ]
  },
  {
   "cell_type": "code",
   "execution_count": 2,
   "id": "c5342c25",
   "metadata": {},
   "outputs": [
    {
     "name": "stdout",
     "output_type": "stream",
     "text": [
      "contig analysis \n",
      "----------------------------------------------------------------\n",
      "Total contigs: 620\n",
      "Total length: 3975776\n",
      "Max length: 181549\n",
      "n50: 55062\n"
     ]
    }
   ],
   "source": [
    "present_results(\"../data/out_contig.fa\", \"contig\")"
   ]
  },
  {
   "cell_type": "code",
   "execution_count": 3,
   "id": "c2b23da8",
   "metadata": {},
   "outputs": [
    {
     "name": "stdout",
     "output_type": "stream",
     "text": [
      "scaffold analysis \n",
      "----------------------------------------------------------------\n",
      "Total scaffolds: 76\n",
      "Total length: 3925502\n",
      "Max length: 3880719\n",
      "n50: 3880719\n",
      "Total length of gaps: 6444\n",
      "Total gaps: 140\n"
     ]
    }
   ],
   "source": [
    "present_results(\"../data/out_scaffold.fa\", \"scaffold\")"
   ]
  },
  {
   "cell_type": "code",
   "execution_count": 4,
   "id": "c1429ca0",
   "metadata": {},
   "outputs": [
    {
     "name": "stdout",
     "output_type": "stream",
     "text": [
      "closed_scaffold analysis \n",
      "----------------------------------------------------------------\n",
      "Total closed_scaffolds: 76\n",
      "Total length: 3962276\n",
      "Max length: 3917147\n",
      "n50: 3917147\n",
      "Total length of gaps: 1884\n",
      "Total gaps: 32\n"
     ]
    }
   ],
   "source": [
    "present_results(\"../data/out_gapClosed.fa\", \"closed_scaffold\")"
   ]
  },
  {
   "cell_type": "code",
   "execution_count": null,
   "id": "b517e73b",
   "metadata": {},
   "outputs": [],
   "source": []
  }
 ],
 "metadata": {
  "kernelspec": {
   "display_name": "Python 3 (ipykernel)",
   "language": "python",
   "name": "python3"
  },
  "language_info": {
   "codemirror_mode": {
    "name": "ipython",
    "version": 3
   },
   "file_extension": ".py",
   "mimetype": "text/x-python",
   "name": "python",
   "nbconvert_exporter": "python",
   "pygments_lexer": "ipython3",
   "version": "3.10.7"
  }
 },
 "nbformat": 4,
 "nbformat_minor": 5
}
